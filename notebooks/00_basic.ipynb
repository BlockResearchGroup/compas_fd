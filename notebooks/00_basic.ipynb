{
 "cells": [
  {
   "cell_type": "code",
   "execution_count": 8,
   "metadata": {},
   "outputs": [],
   "source": [
    "from compas.colors import Color\n",
    "from compas.datastructures import Mesh\n",
    "from compas_fd.solvers import fd_numpy\n",
    "from compas_notebook.viewer import Viewer"
   ]
  },
  {
   "cell_type": "code",
   "execution_count": 2,
   "metadata": {},
   "outputs": [],
   "source": [
    "mesh = Mesh.from_meshgrid(dx=10, nx=10)"
   ]
  },
  {
   "cell_type": "code",
   "execution_count": 3,
   "metadata": {},
   "outputs": [],
   "source": [
    "vertices = mesh.vertices_attributes('xyz')\n",
    "fixed = list(mesh.vertices_where(vertex_degree=2))\n",
    "loads = [[0, 0, 0]] * len(vertices)\n",
    "edges = list(mesh.edges())\n",
    "forcedensities = [1.0] * len(edges)"
   ]
  },
  {
   "cell_type": "code",
   "execution_count": 10,
   "metadata": {},
   "outputs": [],
   "source": [
    "for index, edge in enumerate(edges):\n",
    "    if mesh.is_edge_on_boundary(edge):\n",
    "        forcedensities[index] = 10"
   ]
  },
  {
   "cell_type": "code",
   "execution_count": 11,
   "metadata": {},
   "outputs": [],
   "source": [
    "result = fd_numpy(vertices=vertices, fixed=fixed, edges=edges, loads=loads, forcedensities=forcedensities)"
   ]
  },
  {
   "cell_type": "code",
   "execution_count": 12,
   "metadata": {},
   "outputs": [],
   "source": [
    "for vertex in mesh.vertices():\n",
    "    mesh.vertex_attribute(vertex, 'x', result.vertices[vertex, 0])\n",
    "    mesh.vertex_attribute(vertex, 'y', result.vertices[vertex, 1])\n",
    "    mesh.vertex_attribute(vertex, 'z', result.vertices[vertex, 2])"
   ]
  },
  {
   "cell_type": "code",
   "execution_count": 14,
   "metadata": {},
   "outputs": [
    {
     "data": {
      "application/vnd.jupyter.widget-view+json": {
       "model_id": "8c054bcdda134d1d967ed4887648cb5b",
       "version_major": 2,
       "version_minor": 0
      },
      "text/plain": [
       "VBox(children=(HBox(children=(Button(icon='folder-open', layout=Layout(height='32px', width='48px'), style=But…"
      ]
     },
     "metadata": {},
     "output_type": "display_data"
    }
   ],
   "source": [
    "viewer = Viewer()\n",
    "viewer.scene.add(mesh, color=Color.from_hex('#cccccc'))\n",
    "for vertex in fixed:\n",
    "    viewer.scene.add(mesh.vertex_point(vertex), color=Color.red())\n",
    "viewer.show()"
   ]
  },
  {
   "cell_type": "code",
   "execution_count": null,
   "metadata": {},
   "outputs": [],
   "source": []
  }
 ],
 "metadata": {
  "kernelspec": {
   "display_name": "compas-dev",
   "language": "python",
   "name": "python3"
  },
  "language_info": {
   "codemirror_mode": {
    "name": "ipython",
    "version": 3
   },
   "file_extension": ".py",
   "mimetype": "text/x-python",
   "name": "python",
   "nbconvert_exporter": "python",
   "pygments_lexer": "ipython3",
   "version": "3.9.10"
  }
 },
 "nbformat": 4,
 "nbformat_minor": 2
}
