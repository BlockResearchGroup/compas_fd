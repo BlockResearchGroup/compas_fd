{
 "cells": [
  {
   "cell_type": "code",
   "execution_count": 17,
   "metadata": {},
   "outputs": [],
   "source": [
    "from compas.colors import Color\n",
    "from compas.datastructures import Mesh\n",
    "from compas_fd.solvers import fd_numpy\n",
    "from compas_notebook.viewer import Viewer"
   ]
  },
  {
   "cell_type": "code",
   "execution_count": 18,
   "metadata": {},
   "outputs": [],
   "source": [
    "mesh = Mesh.from_meshgrid(dx=10, nx=10)\n",
    "for vertex in mesh.vertices_where(x=10, y=10):\n",
    "    mesh.vertex_attribute(vertex, 'z', 7)"
   ]
  },
  {
   "cell_type": "code",
   "execution_count": 19,
   "metadata": {},
   "outputs": [],
   "source": [
    "vertices = mesh.vertices_attributes('xyz')\n",
    "fixed = list(mesh.vertices_where(vertex_degree=2))\n",
    "loads = [[0, 0, 0]] * len(vertices)\n",
    "edges = list(mesh.edges())\n",
    "forcedensities = [1.0] * len(edges)"
   ]
  },
  {
   "cell_type": "code",
   "execution_count": 20,
   "metadata": {},
   "outputs": [],
   "source": [
    "for index, edge in enumerate(edges):\n",
    "    if mesh.is_edge_on_boundary(edge):\n",
    "        forcedensities[index] = 10"
   ]
  },
  {
   "cell_type": "code",
   "execution_count": 21,
   "metadata": {},
   "outputs": [],
   "source": [
    "result = fd_numpy(vertices=vertices, fixed=fixed, edges=edges, loads=loads, forcedensities=forcedensities)"
   ]
  },
  {
   "cell_type": "code",
   "execution_count": 22,
   "metadata": {},
   "outputs": [],
   "source": [
    "for vertex in mesh.vertices():\n",
    "    mesh.vertex_attribute(vertex, 'x', result.vertices[vertex, 0])\n",
    "    mesh.vertex_attribute(vertex, 'y', result.vertices[vertex, 1])\n",
    "    mesh.vertex_attribute(vertex, 'z', result.vertices[vertex, 2])"
   ]
  },
  {
   "cell_type": "code",
   "execution_count": 23,
   "metadata": {},
   "outputs": [
    {
     "data": {
      "application/vnd.jupyter.widget-view+json": {
       "model_id": "3f242bdc80434d10a86040377441b716",
       "version_major": 2,
       "version_minor": 0
      },
      "text/plain": [
       "VBox(children=(HBox(children=(Button(icon='search-plus', layout=Layout(height='32px', width='48px'), style=But…"
      ]
     },
     "metadata": {},
     "output_type": "display_data"
    }
   ],
   "source": [
    "viewer = Viewer()\n",
    "viewer.scene.clear()\n",
    "viewer.scene.add(mesh, color=Color.from_hex('#cccccc'), show_edges=True)\n",
    "for vertex in fixed:\n",
    "    viewer.scene.add(mesh.vertex_point(vertex), color=Color.red(), pointsize=0.5)\n",
    "viewer.show()"
   ]
  },
  {
   "cell_type": "code",
   "execution_count": null,
   "metadata": {},
   "outputs": [],
   "source": []
  }
 ],
 "metadata": {
  "kernelspec": {
   "display_name": "compas-dev",
   "language": "python",
   "name": "python3"
  },
  "language_info": {
   "codemirror_mode": {
    "name": "ipython",
    "version": 3
   },
   "file_extension": ".py",
   "mimetype": "text/x-python",
   "name": "python",
   "nbconvert_exporter": "python",
   "pygments_lexer": "ipython3",
   "version": "3.10.14"
  }
 },
 "nbformat": 4,
 "nbformat_minor": 2
}
